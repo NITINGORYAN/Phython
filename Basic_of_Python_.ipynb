{
  "nbformat": 4,
  "nbformat_minor": 0,
  "metadata": {
    "colab": {
      "provenance": [],
      "toc_visible": true,
      "authorship_tag": "ABX9TyNIz17TGdL0chSEQf1UTeyo",
      "include_colab_link": true
    },
    "kernelspec": {
      "name": "python3",
      "display_name": "Python 3"
    },
    "language_info": {
      "name": "python"
    }
  },
  "cells": [
    {
      "cell_type": "markdown",
      "metadata": {
        "id": "view-in-github",
        "colab_type": "text"
      },
      "source": [
        "<a href=\"https://colab.research.google.com/github/NITINGORYAN/Python/blob/main/Basic_of_Python_.ipynb\" target=\"_parent\"><img src=\"https://colab.research.google.com/assets/colab-badge.svg\" alt=\"Open In Colab\"/></a>"
      ]
    },
    {
      "cell_type": "markdown",
      "source": [
        "*Type Casting *"
      ],
      "metadata": {
        "id": "AS7EJz4EH_9H"
      }
    },
    {
      "cell_type": "code",
      "source": [
        "Name=input('enter a name ') # Type Casting for enter anything"
      ],
      "metadata": {
        "colab": {
          "base_uri": "https://localhost:8080/"
        },
        "id": "S7y11f06q5x9",
        "outputId": "c977f054-8bd3-4ba0-a0b4-2a785657ce0d"
      },
      "execution_count": null,
      "outputs": [
        {
          "name": "stdout",
          "output_type": "stream",
          "text": [
            "enter a name nitin\n"
          ]
        }
      ]
    },
    {
      "cell_type": "code",
      "source": [
        "Otp = int(input('enter otp ')) # type casting for interger only"
      ],
      "metadata": {
        "colab": {
          "base_uri": "https://localhost:8080/"
        },
        "id": "FHQJ3LY6rTe6",
        "outputId": "6e82d6b1-8748-4b44-aab9-09cc3e7afb38"
      },
      "execution_count": null,
      "outputs": [
        {
          "name": "stdout",
          "output_type": "stream",
          "text": [
            "enter otp 1\n"
          ]
        }
      ]
    },
    {
      "cell_type": "markdown",
      "source": [
        "**Concatination**"
      ],
      "metadata": {
        "id": "vldUvsvM3ong"
      }
    },
    {
      "cell_type": "code",
      "source": [
        "a='Indian'\n",
        "b= ' ocean'\n",
        "c=a+b\n",
        "print(c) # merge 2 or more string together & merge 2 or more list together"
      ],
      "metadata": {
        "colab": {
          "base_uri": "https://localhost:8080/"
        },
        "id": "RXxsOEaV3vgc",
        "outputId": "73f2bd74-9104-42c8-b054-fa65f5136404"
      },
      "execution_count": null,
      "outputs": [
        {
          "output_type": "stream",
          "name": "stdout",
          "text": [
            "Indian ocean\n"
          ]
        }
      ]
    },
    {
      "cell_type": "markdown",
      "source": [
        "**Slicing**"
      ],
      "metadata": {
        "id": "oj1QO8xKHcCf"
      }
    },
    {
      "cell_type": "code",
      "source": [
        "a='indian ocean' #slicing -: fetching more than 1 element at a time. ex- [a:b]  a is inclusive in nature and b is exclusive in nature.\n",
        "print(a[0:8])"
      ],
      "metadata": {
        "colab": {
          "base_uri": "https://localhost:8080/"
        },
        "id": "L76sh0Ynrlqs",
        "outputId": "8f6f3851-681e-4c10-f04c-6a33a13dd5a5"
      },
      "execution_count": null,
      "outputs": [
        {
          "output_type": "stream",
          "name": "stdout",
          "text": [
            "indian o\n"
          ]
        }
      ]
    },
    {
      "cell_type": "code",
      "source": [
        "Q='united nation'\n",
        "print(Q[0:4])"
      ],
      "metadata": {
        "colab": {
          "base_uri": "https://localhost:8080/"
        },
        "id": "4NxqyTJdtCnJ",
        "outputId": "8a818d74-f9ab-4086-d8ce-c690a39eefa9"
      },
      "execution_count": null,
      "outputs": [
        {
          "output_type": "stream",
          "name": "stdout",
          "text": [
            "unit\n"
          ]
        }
      ]
    },
    {
      "cell_type": "code",
      "source": [
        "print(Q[-9]) #Negative index slicing  start with right to left ex - ........-4,-3,-2,-1"
      ],
      "metadata": {
        "colab": {
          "base_uri": "https://localhost:8080/"
        },
        "id": "DfjeUYE8tWxe",
        "outputId": "90ed855b-7a2f-459f-da51-f518ae0c8316"
      },
      "execution_count": null,
      "outputs": [
        {
          "output_type": "stream",
          "name": "stdout",
          "text": [
            "e\n"
          ]
        }
      ]
    },
    {
      "cell_type": "code",
      "source": [
        "print(Q[-9:]) # Negative Index Slicing"
      ],
      "metadata": {
        "colab": {
          "base_uri": "https://localhost:8080/"
        },
        "id": "8hJyB6EwtiXA",
        "outputId": "02d3b9f3-f62b-4d2b-ca73-beb2bde13304"
      },
      "execution_count": null,
      "outputs": [
        {
          "output_type": "stream",
          "name": "stdout",
          "text": [
            "ed nation\n"
          ]
        }
      ]
    },
    {
      "cell_type": "markdown",
      "source": [
        "**Nested List **"
      ],
      "metadata": {
        "id": "V6QePMzH434Y"
      }
    },
    {
      "cell_type": "code",
      "source": [
        "L1=[20,25,60,-45,['delhi','mumbai','pune','vellore']]     #List inside a list\n",
        "print(L1[4][-3])"
      ],
      "metadata": {
        "colab": {
          "base_uri": "https://localhost:8080/"
        },
        "id": "cSjpC0mj2Z5R",
        "outputId": "a2b528f4-b335-43c8-ca4c-1e5a9d3f7c68"
      },
      "execution_count": null,
      "outputs": [
        {
          "output_type": "stream",
          "name": "stdout",
          "text": [
            "mumbai\n"
          ]
        }
      ]
    },
    {
      "cell_type": "code",
      "source": [
        "print(L1[-1][-1])"
      ],
      "metadata": {
        "colab": {
          "base_uri": "https://localhost:8080/"
        },
        "id": "KPMovBnJ60Dz",
        "outputId": "af300005-97e9-46e9-99ab-8bb97fff2589"
      },
      "execution_count": null,
      "outputs": [
        {
          "output_type": "stream",
          "name": "stdout",
          "text": [
            "vellore\n"
          ]
        }
      ]
    },
    {
      "cell_type": "markdown",
      "source": [
        "**Built in functions **"
      ],
      "metadata": {
        "id": "tLdLjpcj7M21"
      }
    },
    {
      "cell_type": "code",
      "source": [
        "L1=['AI','Phython','NLP','CV','R']\n",
        "L1.append('machine learning')   # append use for add the at the end of list\n",
        "print(L1)"
      ],
      "metadata": {
        "colab": {
          "base_uri": "https://localhost:8080/"
        },
        "id": "RuNShvfH7c0Q",
        "outputId": "8cb4bcef-e791-4f96-f886-3d5304e9201e"
      },
      "execution_count": null,
      "outputs": [
        {
          "output_type": "stream",
          "name": "stdout",
          "text": [
            "['AI', 'Phython', 'NLP', 'CV', 'R', 'machine learning']\n"
          ]
        }
      ]
    },
    {
      "cell_type": "code",
      "source": [
        "L1=['AI','Phython','NLP','CV','R']\n",
        "L1.insert(1,'machine learning')   #inert command use for add the at your desire location\n",
        "print(L1)"
      ],
      "metadata": {
        "colab": {
          "base_uri": "https://localhost:8080/"
        },
        "id": "IWMuGVi98WGc",
        "outputId": "3c60528c-862f-4722-e54e-c47035d4849d"
      },
      "execution_count": null,
      "outputs": [
        {
          "output_type": "stream",
          "name": "stdout",
          "text": [
            "['AI', 'machine learning', 'Phython', 'NLP', 'CV', 'R']\n"
          ]
        }
      ]
    },
    {
      "cell_type": "code",
      "source": [
        "L1=['AI','Phython','NLP','CV','R']\n",
        "L1.remove('CV')  # remove Element from list\n",
        "print(L1)"
      ],
      "metadata": {
        "colab": {
          "base_uri": "https://localhost:8080/"
        },
        "id": "U1Sv4E0v9BKL",
        "outputId": "36025336-ad70-4705-fcce-c3f81ce36e19"
      },
      "execution_count": null,
      "outputs": [
        {
          "output_type": "stream",
          "name": "stdout",
          "text": [
            "['AI', 'Phython', 'NLP', 'R']\n"
          ]
        }
      ]
    },
    {
      "cell_type": "code",
      "source": [
        "L1=['AI','Phython','NLP','CV','R']\n",
        "L1.pop(4) #remove element at given location\n",
        "print(L1)"
      ],
      "metadata": {
        "colab": {
          "base_uri": "https://localhost:8080/"
        },
        "id": "OIDLaC0J9-Ix",
        "outputId": "7d4895bc-5d8c-4cec-a28d-7021533874e0"
      },
      "execution_count": null,
      "outputs": [
        {
          "output_type": "stream",
          "name": "stdout",
          "text": [
            "['AI', 'Phython', 'NLP', 'CV']\n"
          ]
        }
      ]
    },
    {
      "cell_type": "code",
      "source": [
        "L1=['AI','Phython','NLP','CV','R']\n",
        "L1.extend('deep''learning') # it will add multiple element at the end of list\n",
        "print(L1)"
      ],
      "metadata": {
        "colab": {
          "base_uri": "https://localhost:8080/"
        },
        "id": "o5lllkvs_I1F",
        "outputId": "41f2315e-151a-4cbd-8de1-0e36943a418f"
      },
      "execution_count": null,
      "outputs": [
        {
          "output_type": "stream",
          "name": "stdout",
          "text": [
            "['AI', 'Phython', 'NLP', 'CV', 'R', 'd', 'e', 'e', 'p', 'l', 'e', 'a', 'r', 'n', 'i', 'n', 'g']\n"
          ]
        }
      ]
    },
    {
      "cell_type": "code",
      "source": [
        "L2=[1,2,8,6,3,5,4,1]\n",
        "max(L2) #fetch the largest number"
      ],
      "metadata": {
        "colab": {
          "base_uri": "https://localhost:8080/"
        },
        "id": "H9u1fZDGAQE0",
        "outputId": "9fc1c21c-68bb-4a2d-9178-d49cda1e91b9"
      },
      "execution_count": null,
      "outputs": [
        {
          "output_type": "execute_result",
          "data": {
            "text/plain": [
              "8"
            ]
          },
          "metadata": {},
          "execution_count": 68
        }
      ]
    },
    {
      "cell_type": "code",
      "source": [
        "L2=[1,2,8,6,3,5,4,1]\n",
        "min(L2) #fetch the smallest number"
      ],
      "metadata": {
        "colab": {
          "base_uri": "https://localhost:8080/"
        },
        "id": "SNfClCBGA1XS",
        "outputId": "66607da4-a5b9-46a2-dd81-2cb148236717"
      },
      "execution_count": null,
      "outputs": [
        {
          "output_type": "execute_result",
          "data": {
            "text/plain": [
              "1"
            ]
          },
          "metadata": {},
          "execution_count": 70
        }
      ]
    },
    {
      "cell_type": "code",
      "source": [
        "len(L2) #will fetching total number of element"
      ],
      "metadata": {
        "colab": {
          "base_uri": "https://localhost:8080/"
        },
        "id": "2N0OPj10GXPz",
        "outputId": "70e98f0f-d49d-49bc-8bc1-68657a5b2500"
      },
      "execution_count": null,
      "outputs": [
        {
          "output_type": "execute_result",
          "data": {
            "text/plain": [
              "8"
            ]
          },
          "metadata": {},
          "execution_count": 85
        }
      ]
    },
    {
      "cell_type": "code",
      "source": [
        "L2.count(2) #will count the frequency of 2 existing in the list"
      ],
      "metadata": {
        "colab": {
          "base_uri": "https://localhost:8080/"
        },
        "id": "fvr0zb4qGq6n",
        "outputId": "85bfa5cf-ace0-4268-9c52-2fdaed61fd88"
      },
      "execution_count": null,
      "outputs": [
        {
          "output_type": "execute_result",
          "data": {
            "text/plain": [
              "1"
            ]
          },
          "metadata": {},
          "execution_count": 86
        }
      ]
    },
    {
      "cell_type": "code",
      "source": [
        "sum(L2)  # it will add the element in the list."
      ],
      "metadata": {
        "colab": {
          "base_uri": "https://localhost:8080/"
        },
        "id": "p8Sw2Nq0HD2r",
        "outputId": "29823abb-c701-41f2-a4ec-21b1d4fb5b8a"
      },
      "execution_count": null,
      "outputs": [
        {
          "output_type": "execute_result",
          "data": {
            "text/plain": [
              "30"
            ]
          },
          "metadata": {},
          "execution_count": 88
        }
      ]
    },
    {
      "cell_type": "code",
      "source": [
        "my_list=['varansi','lucknow','kanpur',['uttar pradesh','madhya pradesh',['delhi','faridabad','noida']]]\n",
        "print(my_list[3][2][:-1])"
      ],
      "metadata": {
        "colab": {
          "base_uri": "https://localhost:8080/"
        },
        "id": "S0Rf8BLMDtxK",
        "outputId": "f4810d9c-e8be-492f-bbbc-b0a09bbc6f21"
      },
      "execution_count": null,
      "outputs": [
        {
          "output_type": "stream",
          "name": "stdout",
          "text": [
            "['delhi', 'faridabad']\n"
          ]
        }
      ]
    }
  ]
}